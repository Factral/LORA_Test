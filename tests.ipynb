{
 "cells": [
  {
   "cell_type": "code",
   "execution_count": 1,
   "metadata": {},
   "outputs": [
    {
     "name": "stderr",
     "output_type": "stream",
     "text": [
      "c:\\Users\\leons\\AppData\\Local\\miniconda3\\envs\\leon_torch\\lib\\site-packages\\tqdm\\auto.py:21: TqdmWarning: IProgress not found. Please update jupyter and ipywidgets. See https://ipywidgets.readthedocs.io/en/stable/user_install.html\n",
      "  from .autonotebook import tqdm as notebook_tqdm\n"
     ]
    }
   ],
   "source": [
    "import matplotlib.pyplot as plt\n",
    "import numpy as np\n",
    "from utils import reshape_data, get_dataset_seismic, get_dataloader, SeismicDataset\n",
    "import torch\n",
    "from torchvision import transforms\n",
    "from networks import DemoNet\n",
    "from torchsummary import summary"
   ]
  },
  {
   "cell_type": "code",
   "execution_count": 2,
   "metadata": {},
   "outputs": [
    {
     "name": "stdout",
     "output_type": "stream",
     "text": [
      "----------------------------------------------------------------\n",
      "        Layer (type)               Output Shape         Param #\n",
      "================================================================\n",
      "            Conv2d-1          [-1, 100, 28, 28]           1,000\n",
      "            Conv2d-2          [-1, 100, 14, 14]          90,100\n",
      "            Conv2d-3              [-1, 1, 7, 7]             901\n",
      "            Linear-4                   [-1, 10]             500\n",
      "================================================================\n",
      "Total params: 92,501\n",
      "Trainable params: 92,501\n",
      "Non-trainable params: 0\n",
      "----------------------------------------------------------------\n",
      "Input size (MB): 0.00\n",
      "Forward/backward pass size (MB): 0.75\n",
      "Params size (MB): 0.35\n",
      "Estimated Total Size (MB): 1.10\n",
      "----------------------------------------------------------------\n"
     ]
    }
   ],
   "source": [
    "net = DemoNet().to('cuda')  \n",
    "summary(net, (1, 28, 28))"
   ]
  },
  {
   "cell_type": "code",
   "execution_count": null,
   "metadata": {},
   "outputs": [],
   "source": [
    "get_dataset_seismic()"
   ]
  },
  {
   "cell_type": "code",
   "execution_count": null,
   "metadata": {},
   "outputs": [],
   "source": [
    "data_path = 'data/dataset.npy'\n",
    "number_degradations = 6 # total 12\n",
    "reshape_data(data_path, number_degradations)"
   ]
  },
  {
   "cell_type": "code",
   "execution_count": null,
   "metadata": {},
   "outputs": [],
   "source": [
    "dataset = np.load(f'data/dataset_reshaped.npy', allow_pickle=True)\n",
    "print(dataset.shape); print(len(dataset))"
   ]
  },
  {
   "cell_type": "code",
   "execution_count": null,
   "metadata": {},
   "outputs": [],
   "source": [
    "idx = 12\n",
    "fig, ax = plt.subplots(1,2, figsize=(10,5))\n",
    "ax[0].imshow(dataset[idx][0], cmap='seismic')\n",
    "ax[1].imshow(dataset[idx][1], cmap='seismic')\n",
    "plt.show()\n"
   ]
  },
  {
   "cell_type": "code",
   "execution_count": null,
   "metadata": {},
   "outputs": [],
   "source": [
    "transform = transforms.Compose([transforms.ToTensor(), transforms.Resize((128, 128)),])\n",
    "dataset = SeismicDataset(data_path='data/dataset_reshaped.npy', transform=transform)"
   ]
  },
  {
   "cell_type": "code",
   "execution_count": null,
   "metadata": {},
   "outputs": [],
   "source": [
    "print(dataset.__len__())\n",
    "fig, ax = plt.subplots(1,2, figsize=(10,5))\n",
    "ax[0].imshow(dataset[112][0].squeeze(), cmap='seismic')\n",
    "ax[1].imshow(dataset[112][1].squeeze(), cmap='seismic')"
   ]
  },
  {
   "cell_type": "code",
   "execution_count": null,
   "metadata": {},
   "outputs": [],
   "source": [
    "trainloader, valoader, testloader = get_dataloader(batch_size=32, num_workers=1, data_path='data/dataset_reshaped.npy', im_size=(256,256))"
   ]
  },
  {
   "cell_type": "code",
   "execution_count": null,
   "metadata": {},
   "outputs": [],
   "source": [
    "len(trainloader), len(valoader), len(testloader)"
   ]
  },
  {
   "cell_type": "code",
   "execution_count": null,
   "metadata": {},
   "outputs": [],
   "source": [
    "img, degr = next(iter(trainloader))"
   ]
  },
  {
   "cell_type": "code",
   "execution_count": null,
   "metadata": {},
   "outputs": [],
   "source": [
    "fig, ax = plt.subplots(1,2, figsize=(10,5))\n",
    "ax[0].imshow(img[-1].squeeze(), cmap='seismic')\n",
    "ax[1].imshow(degr[-1].squeeze(), cmap='seismic')"
   ]
  }
 ],
 "metadata": {
  "kernelspec": {
   "display_name": "leon_torch",
   "language": "python",
   "name": "python3"
  },
  "language_info": {
   "codemirror_mode": {
    "name": "ipython",
    "version": 3
   },
   "file_extension": ".py",
   "mimetype": "text/x-python",
   "name": "python",
   "nbconvert_exporter": "python",
   "pygments_lexer": "ipython3",
   "version": "3.9.18"
  }
 },
 "nbformat": 4,
 "nbformat_minor": 2
}

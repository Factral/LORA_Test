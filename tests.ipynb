{
 "cells": [
  {
   "cell_type": "code",
   "execution_count": 1,
   "metadata": {},
   "outputs": [],
   "source": [
    "import matplotlib.pyplot as plt\n",
    "import numpy as np\n",
    "from utils import reshape_data, get_dataset_seismic, get_dataloader, SeismicDataset, get_weights\n",
    "import torch\n",
    "from torchvision import transforms\n",
    "from models.networks import DemoNet, UNetRes\n",
    "from torchsummary import summary"
   ]
  },
  {
   "cell_type": "code",
   "execution_count": 2,
   "metadata": {},
   "outputs": [
    {
     "name": "stdout",
     "output_type": "stream",
     "text": [
      "----------------------------------------------------------------\n",
      "        Layer (type)               Output Shape         Param #\n",
      "================================================================\n",
      "            Conv2d-1          [-1, 100, 28, 28]           1,000\n",
      "            Conv2d-2          [-1, 100, 14, 14]          90,100\n",
      "            Conv2d-3              [-1, 1, 7, 7]             901\n",
      "            Linear-4                   [-1, 10]             500\n",
      "================================================================\n",
      "Total params: 92,501\n",
      "Trainable params: 92,501\n",
      "Non-trainable params: 0\n",
      "----------------------------------------------------------------\n",
      "Input size (MB): 0.00\n",
      "Forward/backward pass size (MB): 0.75\n",
      "Params size (MB): 0.35\n",
      "Estimated Total Size (MB): 1.10\n",
      "----------------------------------------------------------------\n"
     ]
    }
   ],
   "source": [
    "net = DemoNet().to('cuda')  \n",
    "summary(net, (1, 28, 28))"
   ]
  },
  {
   "cell_type": "code",
   "execution_count": 3,
   "metadata": {},
   "outputs": [
    {
     "name": "stdout",
     "output_type": "stream",
     "text": [
      "----------------------------------------------------------------\n",
      "        Layer (type)               Output Shape         Param #\n",
      "================================================================\n",
      "            Conv2d-1         [-1, 64, 256, 256]           2,304\n",
      "            Conv2d-2         [-1, 64, 256, 256]          36,864\n",
      "              ReLU-3         [-1, 64, 256, 256]               0\n",
      "            Conv2d-4         [-1, 64, 256, 256]          36,864\n",
      "          ResBlock-5         [-1, 64, 256, 256]               0\n",
      "            Conv2d-6         [-1, 64, 256, 256]          36,864\n",
      "              ReLU-7         [-1, 64, 256, 256]               0\n",
      "            Conv2d-8         [-1, 64, 256, 256]          36,864\n",
      "          ResBlock-9         [-1, 64, 256, 256]               0\n",
      "           Conv2d-10         [-1, 64, 256, 256]          36,864\n",
      "             ReLU-11         [-1, 64, 256, 256]               0\n",
      "           Conv2d-12         [-1, 64, 256, 256]          36,864\n",
      "         ResBlock-13         [-1, 64, 256, 256]               0\n",
      "           Conv2d-14         [-1, 64, 256, 256]          36,864\n",
      "             ReLU-15         [-1, 64, 256, 256]               0\n",
      "           Conv2d-16         [-1, 64, 256, 256]          36,864\n",
      "         ResBlock-17         [-1, 64, 256, 256]               0\n",
      "           Conv2d-18        [-1, 128, 128, 128]          32,768\n",
      "           Conv2d-19        [-1, 128, 128, 128]         147,456\n",
      "             ReLU-20        [-1, 128, 128, 128]               0\n",
      "           Conv2d-21        [-1, 128, 128, 128]         147,456\n",
      "         ResBlock-22        [-1, 128, 128, 128]               0\n",
      "           Conv2d-23        [-1, 128, 128, 128]         147,456\n",
      "             ReLU-24        [-1, 128, 128, 128]               0\n",
      "           Conv2d-25        [-1, 128, 128, 128]         147,456\n",
      "         ResBlock-26        [-1, 128, 128, 128]               0\n",
      "           Conv2d-27        [-1, 128, 128, 128]         147,456\n",
      "             ReLU-28        [-1, 128, 128, 128]               0\n",
      "           Conv2d-29        [-1, 128, 128, 128]         147,456\n",
      "         ResBlock-30        [-1, 128, 128, 128]               0\n",
      "           Conv2d-31        [-1, 128, 128, 128]         147,456\n",
      "             ReLU-32        [-1, 128, 128, 128]               0\n",
      "           Conv2d-33        [-1, 128, 128, 128]         147,456\n",
      "         ResBlock-34        [-1, 128, 128, 128]               0\n",
      "           Conv2d-35          [-1, 256, 64, 64]         131,072\n",
      "           Conv2d-36          [-1, 256, 64, 64]         589,824\n",
      "             ReLU-37          [-1, 256, 64, 64]               0\n",
      "           Conv2d-38          [-1, 256, 64, 64]         589,824\n",
      "         ResBlock-39          [-1, 256, 64, 64]               0\n",
      "           Conv2d-40          [-1, 256, 64, 64]         589,824\n",
      "             ReLU-41          [-1, 256, 64, 64]               0\n",
      "           Conv2d-42          [-1, 256, 64, 64]         589,824\n",
      "         ResBlock-43          [-1, 256, 64, 64]               0\n",
      "           Conv2d-44          [-1, 256, 64, 64]         589,824\n",
      "             ReLU-45          [-1, 256, 64, 64]               0\n",
      "           Conv2d-46          [-1, 256, 64, 64]         589,824\n",
      "         ResBlock-47          [-1, 256, 64, 64]               0\n",
      "           Conv2d-48          [-1, 256, 64, 64]         589,824\n",
      "             ReLU-49          [-1, 256, 64, 64]               0\n",
      "           Conv2d-50          [-1, 256, 64, 64]         589,824\n",
      "         ResBlock-51          [-1, 256, 64, 64]               0\n",
      "           Conv2d-52          [-1, 512, 32, 32]         524,288\n",
      "           Conv2d-53          [-1, 512, 32, 32]       2,359,296\n",
      "             ReLU-54          [-1, 512, 32, 32]               0\n",
      "           Conv2d-55          [-1, 512, 32, 32]       2,359,296\n",
      "         ResBlock-56          [-1, 512, 32, 32]               0\n",
      "           Conv2d-57          [-1, 512, 32, 32]       2,359,296\n",
      "             ReLU-58          [-1, 512, 32, 32]               0\n",
      "           Conv2d-59          [-1, 512, 32, 32]       2,359,296\n",
      "         ResBlock-60          [-1, 512, 32, 32]               0\n",
      "           Conv2d-61          [-1, 512, 32, 32]       2,359,296\n",
      "             ReLU-62          [-1, 512, 32, 32]               0\n",
      "           Conv2d-63          [-1, 512, 32, 32]       2,359,296\n",
      "         ResBlock-64          [-1, 512, 32, 32]               0\n",
      "           Conv2d-65          [-1, 512, 32, 32]       2,359,296\n",
      "             ReLU-66          [-1, 512, 32, 32]               0\n",
      "           Conv2d-67          [-1, 512, 32, 32]       2,359,296\n",
      "         ResBlock-68          [-1, 512, 32, 32]               0\n",
      "  ConvTranspose2d-69          [-1, 256, 64, 64]         524,288\n",
      "           Conv2d-70          [-1, 256, 64, 64]         589,824\n",
      "             ReLU-71          [-1, 256, 64, 64]               0\n",
      "           Conv2d-72          [-1, 256, 64, 64]         589,824\n",
      "         ResBlock-73          [-1, 256, 64, 64]               0\n",
      "           Conv2d-74          [-1, 256, 64, 64]         589,824\n",
      "             ReLU-75          [-1, 256, 64, 64]               0\n",
      "           Conv2d-76          [-1, 256, 64, 64]         589,824\n",
      "         ResBlock-77          [-1, 256, 64, 64]               0\n",
      "           Conv2d-78          [-1, 256, 64, 64]         589,824\n",
      "             ReLU-79          [-1, 256, 64, 64]               0\n",
      "           Conv2d-80          [-1, 256, 64, 64]         589,824\n",
      "         ResBlock-81          [-1, 256, 64, 64]               0\n",
      "           Conv2d-82          [-1, 256, 64, 64]         589,824\n",
      "             ReLU-83          [-1, 256, 64, 64]               0\n",
      "           Conv2d-84          [-1, 256, 64, 64]         589,824\n",
      "         ResBlock-85          [-1, 256, 64, 64]               0\n",
      "  ConvTranspose2d-86        [-1, 128, 128, 128]         131,072\n",
      "           Conv2d-87        [-1, 128, 128, 128]         147,456\n",
      "             ReLU-88        [-1, 128, 128, 128]               0\n",
      "           Conv2d-89        [-1, 128, 128, 128]         147,456\n",
      "         ResBlock-90        [-1, 128, 128, 128]               0\n",
      "           Conv2d-91        [-1, 128, 128, 128]         147,456\n",
      "             ReLU-92        [-1, 128, 128, 128]               0\n",
      "           Conv2d-93        [-1, 128, 128, 128]         147,456\n",
      "         ResBlock-94        [-1, 128, 128, 128]               0\n",
      "           Conv2d-95        [-1, 128, 128, 128]         147,456\n",
      "             ReLU-96        [-1, 128, 128, 128]               0\n",
      "           Conv2d-97        [-1, 128, 128, 128]         147,456\n",
      "         ResBlock-98        [-1, 128, 128, 128]               0\n",
      "           Conv2d-99        [-1, 128, 128, 128]         147,456\n",
      "            ReLU-100        [-1, 128, 128, 128]               0\n",
      "          Conv2d-101        [-1, 128, 128, 128]         147,456\n",
      "        ResBlock-102        [-1, 128, 128, 128]               0\n",
      " ConvTranspose2d-103         [-1, 64, 256, 256]          32,768\n",
      "          Conv2d-104         [-1, 64, 256, 256]          36,864\n",
      "            ReLU-105         [-1, 64, 256, 256]               0\n",
      "          Conv2d-106         [-1, 64, 256, 256]          36,864\n",
      "        ResBlock-107         [-1, 64, 256, 256]               0\n",
      "          Conv2d-108         [-1, 64, 256, 256]          36,864\n",
      "            ReLU-109         [-1, 64, 256, 256]               0\n",
      "          Conv2d-110         [-1, 64, 256, 256]          36,864\n",
      "        ResBlock-111         [-1, 64, 256, 256]               0\n",
      "          Conv2d-112         [-1, 64, 256, 256]          36,864\n",
      "            ReLU-113         [-1, 64, 256, 256]               0\n",
      "          Conv2d-114         [-1, 64, 256, 256]          36,864\n",
      "        ResBlock-115         [-1, 64, 256, 256]               0\n",
      "          Conv2d-116         [-1, 64, 256, 256]          36,864\n",
      "            ReLU-117         [-1, 64, 256, 256]               0\n",
      "          Conv2d-118         [-1, 64, 256, 256]          36,864\n",
      "        ResBlock-119         [-1, 64, 256, 256]               0\n",
      "          Conv2d-120          [-1, 3, 256, 256]           1,728\n",
      "================================================================\n",
      "Total params: 32,640,960\n",
      "Trainable params: 32,640,960\n",
      "Non-trainable params: 0\n",
      "----------------------------------------------------------------\n",
      "Input size (MB): 1.00\n",
      "Forward/backward pass size (MB): 1973.50\n",
      "Params size (MB): 124.52\n",
      "Estimated Total Size (MB): 2099.02\n",
      "----------------------------------------------------------------\n"
     ]
    }
   ],
   "source": [
    "n_channels = 3\n",
    "net2 = UNetRes(in_nc=n_channels+1, out_nc=n_channels, nc=[64, 128, 256, 512], nb=4, act_mode='R', downsample_mode=\"strideconv\", upsample_mode=\"convtranspose\").to('cuda')\n",
    "summary(net2, (4, 256, 256))"
   ]
  },
  {
   "cell_type": "code",
   "execution_count": 4,
   "metadata": {},
   "outputs": [
    {
     "name": "stdout",
     "output_type": "stream",
     "text": [
      "Weights already downloaded!\n"
     ]
    }
   ],
   "source": [
    "get_weights()"
   ]
  },
  {
   "cell_type": "code",
   "execution_count": 5,
   "metadata": {},
   "outputs": [
    {
     "data": {
      "text/plain": [
       "<All keys matched successfully>"
      ]
     },
     "execution_count": 5,
     "metadata": {},
     "output_type": "execute_result"
    }
   ],
   "source": [
    "weights_path = 'weights/drunet_color.pth'\n",
    "net2.load_state_dict(torch.load(weights_path))"
   ]
  },
  {
   "cell_type": "code",
   "execution_count": 8,
   "metadata": {},
   "outputs": [],
   "source": [
    "weights_lora = [(n, type(m)) for n, m in net2.named_modules()]\n",
    "weights_lora = [(n, m) for n, m in weights_lora if m == torch.nn.modules.conv.Conv2d]\n",
    "weights_lora = [n for n, m in weights_lora]\n",
    "#weights_lora[1][1] == torch.nn.modules.conv.Conv2d"
   ]
  },
  {
   "cell_type": "code",
   "execution_count": 9,
   "metadata": {},
   "outputs": [
    {
     "data": {
      "text/plain": [
       "['m_head',\n",
       " 'm_down1.0.res.0',\n",
       " 'm_down1.0.res.2',\n",
       " 'm_down1.1.res.0',\n",
       " 'm_down1.1.res.2',\n",
       " 'm_down1.2.res.0',\n",
       " 'm_down1.2.res.2',\n",
       " 'm_down1.3.res.0',\n",
       " 'm_down1.3.res.2',\n",
       " 'm_down1.4',\n",
       " 'm_down2.0.res.0',\n",
       " 'm_down2.0.res.2',\n",
       " 'm_down2.1.res.0',\n",
       " 'm_down2.1.res.2',\n",
       " 'm_down2.2.res.0',\n",
       " 'm_down2.2.res.2',\n",
       " 'm_down2.3.res.0',\n",
       " 'm_down2.3.res.2',\n",
       " 'm_down2.4',\n",
       " 'm_down3.0.res.0',\n",
       " 'm_down3.0.res.2',\n",
       " 'm_down3.1.res.0',\n",
       " 'm_down3.1.res.2',\n",
       " 'm_down3.2.res.0',\n",
       " 'm_down3.2.res.2',\n",
       " 'm_down3.3.res.0',\n",
       " 'm_down3.3.res.2',\n",
       " 'm_down3.4',\n",
       " 'm_body.0.res.0',\n",
       " 'm_body.0.res.2',\n",
       " 'm_body.1.res.0',\n",
       " 'm_body.1.res.2',\n",
       " 'm_body.2.res.0',\n",
       " 'm_body.2.res.2',\n",
       " 'm_body.3.res.0',\n",
       " 'm_body.3.res.2',\n",
       " 'm_up3.1.res.0',\n",
       " 'm_up3.1.res.2',\n",
       " 'm_up3.2.res.0',\n",
       " 'm_up3.2.res.2',\n",
       " 'm_up3.3.res.0',\n",
       " 'm_up3.3.res.2',\n",
       " 'm_up3.4.res.0',\n",
       " 'm_up3.4.res.2',\n",
       " 'm_up2.1.res.0',\n",
       " 'm_up2.1.res.2',\n",
       " 'm_up2.2.res.0',\n",
       " 'm_up2.2.res.2',\n",
       " 'm_up2.3.res.0',\n",
       " 'm_up2.3.res.2',\n",
       " 'm_up2.4.res.0',\n",
       " 'm_up2.4.res.2',\n",
       " 'm_up1.1.res.0',\n",
       " 'm_up1.1.res.2',\n",
       " 'm_up1.2.res.0',\n",
       " 'm_up1.2.res.2',\n",
       " 'm_up1.3.res.0',\n",
       " 'm_up1.3.res.2',\n",
       " 'm_up1.4.res.0',\n",
       " 'm_up1.4.res.2',\n",
       " 'm_tail']"
      ]
     },
     "execution_count": 9,
     "metadata": {},
     "output_type": "execute_result"
    }
   ],
   "source": [
    "weights_lora"
   ]
  },
  {
   "cell_type": "code",
   "execution_count": null,
   "metadata": {},
   "outputs": [],
   "source": [
    "get_dataset_seismic()"
   ]
  },
  {
   "cell_type": "code",
   "execution_count": null,
   "metadata": {},
   "outputs": [],
   "source": [
    "data_path = 'data/dataset.npy'\n",
    "number_degradations = 6 # total 12\n",
    "reshape_data(data_path, number_degradations)"
   ]
  },
  {
   "cell_type": "code",
   "execution_count": null,
   "metadata": {},
   "outputs": [],
   "source": [
    "dataset = np.load(f'data/dataset_reshaped.npy', allow_pickle=True)\n",
    "print(dataset.shape); print(len(dataset))"
   ]
  },
  {
   "cell_type": "code",
   "execution_count": null,
   "metadata": {},
   "outputs": [],
   "source": [
    "idx = 12\n",
    "fig, ax = plt.subplots(1,2, figsize=(10,5))\n",
    "ax[0].imshow(dataset[idx][0], cmap='seismic')\n",
    "ax[1].imshow(dataset[idx][1], cmap='seismic')\n",
    "plt.show()\n"
   ]
  },
  {
   "cell_type": "code",
   "execution_count": null,
   "metadata": {},
   "outputs": [],
   "source": [
    "transform = transforms.Compose([transforms.ToTensor(), transforms.Resize((128, 128)),])\n",
    "dataset = SeismicDataset(data_path='data/dataset_reshaped.npy', transform=transform)"
   ]
  },
  {
   "cell_type": "code",
   "execution_count": null,
   "metadata": {},
   "outputs": [],
   "source": [
    "print(dataset.__len__())\n",
    "fig, ax = plt.subplots(1,2, figsize=(10,5))\n",
    "ax[0].imshow(dataset[11][0].squeeze(), cmap='seismic')\n",
    "ax[1].imshow(dataset[11][1].squeeze(), cmap='seismic')\n",
    "plt.show()"
   ]
  },
  {
   "cell_type": "code",
   "execution_count": null,
   "metadata": {},
   "outputs": [],
   "source": [
    "trainloader, valoader, testloader = get_dataloader(batch_size=32, num_workers=0, data_path='data/dataset_reshaped.npy', im_size=(256,256))"
   ]
  },
  {
   "cell_type": "code",
   "execution_count": null,
   "metadata": {},
   "outputs": [],
   "source": [
    "len(trainloader), len(valoader), len(testloader)"
   ]
  },
  {
   "cell_type": "code",
   "execution_count": null,
   "metadata": {},
   "outputs": [],
   "source": [
    "img, degr = next(iter(trainloader))"
   ]
  },
  {
   "cell_type": "code",
   "execution_count": null,
   "metadata": {},
   "outputs": [],
   "source": [
    "fig, ax = plt.subplots(1,2, figsize=(10,5))\n",
    "ax[0].imshow(img[-1].squeeze(), cmap='seismic')\n",
    "ax[1].imshow(degr[-1].squeeze(), cmap='seismic')\n",
    "plt.show()"
   ]
  },
  {
   "cell_type": "code",
   "execution_count": null,
   "metadata": {},
   "outputs": [],
   "source": []
  }
 ],
 "metadata": {
  "kernelspec": {
   "display_name": "leon_torch",
   "language": "python",
   "name": "python3"
  },
  "language_info": {
   "codemirror_mode": {
    "name": "ipython",
    "version": 3
   },
   "file_extension": ".py",
   "mimetype": "text/x-python",
   "name": "python",
   "nbconvert_exporter": "python",
   "pygments_lexer": "ipython3",
   "version": "3.12.3"
  }
 },
 "nbformat": 4,
 "nbformat_minor": 2
}
